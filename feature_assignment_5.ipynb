{
 "cells": [
  {
   "cell_type": "markdown",
   "id": "ce593bfa-28a1-43e7-812a-8db774c6efd1",
   "metadata": {},
   "source": [
    "# Quation 1"
   ]
  },
  {
   "cell_type": "markdown",
   "id": "925be23c-c796-40fe-8a79-8c9192520f17",
   "metadata": {},
   "source": [
    "Ordinal Encoding:\n",
    "Definition: Ordinal encoding is a type of encoding where categorical values are assigned numerical labels based on their order or rank.\n",
    "Example: If you have a categorical variable representing education levels with categories \"High School,\" \"Associate's,\" \"Bachelor's,\" and \"Master's,\" you might assign labels 1, 2, 3, and 4, respectively, based on the ascending order of education levels.\n",
    "\n",
    "Label Encoding:\n",
    "Definition: Label encoding is a general encoding technique where categorical values are assigned unique numerical labels, irrespective of any order or rank.\n",
    "Example: If you have a categorical variable representing colors with categories \"Red,\" \"Green,\" and \"Blue,\" you might assign labels 1, 2, and 3, respectively, without considering any inherent order."
   ]
  },
  {
   "cell_type": "markdown",
   "id": "2aa2e4d3-aea8-48fe-aa70-4e2ca1aa3cb5",
   "metadata": {},
   "source": [
    "# Quation 2"
   ]
  },
  {
   "cell_type": "markdown",
   "id": "e47248cb-0a5f-4bbb-b528-5739d7d83ddb",
   "metadata": {},
   "source": [
    "Target Guided Ordinal Encoding is a technique where categorical variables are encoded based on the mean of the target variable within each category. It's particularly useful when dealing with ordinal categorical variables and the target variable is binary or has multiple levels. The main idea is to use the relationship between the categorical variable and the target variable to assign ordinal labels."
   ]
  },
  {
   "cell_type": "markdown",
   "id": "7f812c58-4ace-4e89-b43a-b86dec8463e8",
   "metadata": {},
   "source": [
    "# Quation 3"
   ]
  },
  {
   "cell_type": "markdown",
   "id": "2c637cfd-0b5b-4016-bad7-1ed385a9ff98",
   "metadata": {},
   "source": []
  },
  {
   "cell_type": "markdown",
   "id": "4153e20b-4a39-4b5d-b264-f60c2d8948b2",
   "metadata": {},
   "source": [
    "# Quation 4"
   ]
  },
  {
   "cell_type": "code",
   "execution_count": 1,
   "id": "9d25e1da-0562-462d-8e78-c3c58db00990",
   "metadata": {},
   "outputs": [],
   "source": [
    "import pandas as pd"
   ]
  },
  {
   "cell_type": "code",
   "execution_count": 2,
   "id": "1f010c67-ca8c-4774-86af-7a218ae24737",
   "metadata": {},
   "outputs": [],
   "source": [
    "df=pd.DataFrame({\"colour\":['red','green','blue'],\"size\":[\"small\",'median','large'],\"material\":['wood','metal','plastic']})"
   ]
  },
  {
   "cell_type": "code",
   "execution_count": 3,
   "id": "10eaf581-b312-41a5-a212-2952d8e38251",
   "metadata": {},
   "outputs": [],
   "source": [
    "from sklearn.preprocessing import LabelEncoder"
   ]
  },
  {
   "cell_type": "code",
   "execution_count": 4,
   "id": "bc443ab1-c6d9-4f22-8fcd-1067c5ac9e30",
   "metadata": {},
   "outputs": [],
   "source": [
    "encoder=LabelEncoder()"
   ]
  },
  {
   "cell_type": "code",
   "execution_count": 11,
   "id": "7f5cc210-5078-42a3-9b32-6ef01a3ad78b",
   "metadata": {},
   "outputs": [],
   "source": [
    "for column in ['colour','size','material']:\n",
    "    df[column+'encoded']=encoder.fit_transform(df[column])\n",
    "    "
   ]
  },
  {
   "cell_type": "code",
   "execution_count": 12,
   "id": "ceb81518-7d30-4e81-9eb2-3d2caa40b4e5",
   "metadata": {},
   "outputs": [
    {
     "name": "stdout",
     "output_type": "stream",
     "text": [
      "  colour    size material  colourencoded  sizeencoded  materialencoded\n",
      "0    red   small     wood              2            2                2\n",
      "1  green  median    metal              1            1                0\n",
      "2   blue   large  plastic              0            0                1\n"
     ]
    }
   ],
   "source": [
    "print(df)"
   ]
  },
  {
   "cell_type": "markdown",
   "id": "b4d4325e-7386-42d9-aa0d-4b132048012b",
   "metadata": {},
   "source": [
    "# Quation 5"
   ]
  },
  {
   "cell_type": "code",
   "execution_count": 13,
   "id": "9611786e-bc27-4632-af11-f9b70ac859dc",
   "metadata": {},
   "outputs": [],
   "source": [
    "import numpy as np"
   ]
  },
  {
   "cell_type": "code",
   "execution_count": 15,
   "id": "d4d9b313-0d67-46cf-90b8-f7e4b06143da",
   "metadata": {},
   "outputs": [],
   "source": [
    "age = np.array([30,40,35,28,45])\n",
    "income = np.array([50000,60000,55000,48000,70000])\n",
    "education_level = np.array([12,16,14,10,18])"
   ]
  },
  {
   "cell_type": "code",
   "execution_count": 18,
   "id": "6356c1cd-39e3-4e60-a82d-ca4bfcbc6c69",
   "metadata": {},
   "outputs": [],
   "source": [
    "data_matrix=np.vstack((age,income,education_level))"
   ]
  },
  {
   "cell_type": "code",
   "execution_count": 20,
   "id": "57328881-3814-46ac-9e8c-822c2847e539",
   "metadata": {},
   "outputs": [
    {
     "data": {
      "text/plain": [
       "array([[4.930e+01, 6.105e+04, 2.200e+01],\n",
       "       [6.105e+04, 7.780e+07, 2.700e+04],\n",
       "       [2.200e+01, 2.700e+04, 1.000e+01]])"
      ]
     },
     "execution_count": 20,
     "metadata": {},
     "output_type": "execute_result"
    }
   ],
   "source": [
    "np.cov(data_matrix)"
   ]
  },
  {
   "cell_type": "markdown",
   "id": "ae5c5022-2f99-4837-915d-a15b7165cc8a",
   "metadata": {},
   "source": [
    "# Quation 6"
   ]
  },
  {
   "cell_type": "markdown",
   "id": "bf1a3fd0-fc79-4deb-bf96-cd275bcc9d43",
   "metadata": {},
   "source": [
    "1)for gender we use label encoding because it transform in 0,1 because gender as two category male and female\n",
    "2)for education level we use ordinal encoding because we can give order on the data for phd order is 1,for master we can give 2 and so on.\n",
    "3)for employment status we can give nominal encoding it allow you to represent each employment statuscategory independantly"
   ]
  },
  {
   "cell_type": "markdown",
   "id": "89b040da-6d39-4e99-96f0-190806ddaf28",
   "metadata": {},
   "source": [
    "# Quation 7"
   ]
  },
  {
   "cell_type": "code",
   "execution_count": 22,
   "id": "a8890452-cdf4-4115-8625-deca942d8656",
   "metadata": {},
   "outputs": [],
   "source": [
    "data = {\n",
    "    'Temperature': [25,20,22,28,30],\n",
    "    'Humidity': [50,60,55,70,45],\n",
    "    'Weather Condition': ['Sunny','Cloudy','Rainy','Sunny','Cloudy'],\n",
    "    'Wind Direction': ['North','South','East','West','North']\n",
    "}"
   ]
  },
  {
   "cell_type": "code",
   "execution_count": 24,
   "id": "91d03c40-7714-42f2-97c3-88fc868851dd",
   "metadata": {},
   "outputs": [
    {
     "data": {
      "text/plain": [
       "-7.5"
      ]
     },
     "execution_count": 24,
     "metadata": {},
     "output_type": "execute_result"
    }
   ],
   "source": [
    "df=pd.DataFrame(data)\n",
    "df['Temperature'].cov(df['Humidity'])"
   ]
  },
  {
   "cell_type": "code",
   "execution_count": null,
   "id": "c7b4ab68-37e9-442a-bc1f-d717c8a13bb8",
   "metadata": {},
   "outputs": [],
   "source": []
  }
 ],
 "metadata": {
  "kernelspec": {
   "display_name": "Python 3 (ipykernel)",
   "language": "python",
   "name": "python3"
  },
  "language_info": {
   "codemirror_mode": {
    "name": "ipython",
    "version": 3
   },
   "file_extension": ".py",
   "mimetype": "text/x-python",
   "name": "python",
   "nbconvert_exporter": "python",
   "pygments_lexer": "ipython3",
   "version": "3.10.8"
  }
 },
 "nbformat": 4,
 "nbformat_minor": 5
}
